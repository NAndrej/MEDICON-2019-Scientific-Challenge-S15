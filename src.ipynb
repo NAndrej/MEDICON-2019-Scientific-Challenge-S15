{
  "nbformat": 4,
  "nbformat_minor": 0,
  "metadata": {
    "colab": {
      "name": "Untitled.ipynb",
      "provenance": [],
      "collapsed_sections": []
    },
    "kernelspec": {
      "name": "python3",
      "display_name": "Python 3"
    }
  },
  "cells": [
    {
      "cell_type": "code",
      "metadata": {
        "id": "IVBoFpAhFjSE",
        "colab_type": "code",
        "colab": {
          "base_uri": "https://localhost:8080/",
          "height": 35
        },
        "outputId": "617c6000-53a7-4c92-d53e-5462968a9ce4"
      },
      "source": [
        "from google.colab import drive\n",
        "drive.mount('/content/drive')\n",
        "import itertools\n",
        "import scipy.io\n",
        "import sys\n",
        "import seaborn as sns\n",
        "import sklearn\n",
        "import sklearn.linear_model\n",
        "import numpy as np\n",
        "import matplotlib.pyplot as plt\n",
        "import pandas.util.testing as tm\n",
        "import math\n",
        "import pandas as pd\n",
        "from sklearn.neural_network import MLPClassifier\n",
        "from sklearn.model_selection import train_test_split\n",
        "from sklearn.utils import resample\n",
        "from sklearn.preprocessing import KBinsDiscretizer\n",
        "import warnings\n",
        "from sklearn.datasets import fetch_openml\n",
        "from sklearn.exceptions import ConvergenceWarning\n",
        "plt.style.use('classic')\n",
        "%matplotlib inline"
      ],
      "execution_count": null,
      "outputs": [
        {
          "output_type": "stream",
          "text": [
            "Drive already mounted at /content/drive; to attempt to forcibly remount, call drive.mount(\"/content/drive\", force_remount=True).\n"
          ],
          "name": "stdout"
        }
      ]
    },
    {
      "cell_type": "code",
      "metadata": {
        "id": "E7Y3VgFSFrqx",
        "colab_type": "code",
        "colab": {}
      },
      "source": [
        "# Konstanti\n",
        "\n",
        "signal_length = 350\n",
        "num_signals = 8\n",
        "sampling_rate = 250\n",
        "sample_freq = 250\n",
        "sample_duration = 1.4\n",
        "time = np.arange(0.0, sample_duration, 1/sample_freq)\n",
        "\n",
        "events_per_run=8\n",
        "train_blocks=20\n",
        "train_runs_per_block=10\n",
        "\n",
        "train_num_events = train_blocks*train_runs_per_block*events_per_run   #(20*10*8=1600)\n",
        "\n",
        "electrodes = ['C3','CZ','C4','CPz','P3','Pz','P4','POz']\n",
        "features = ['pos_peak_period','neg_peak_period','alpha_channel','delta_channel']\n",
        "columns = [electrode+\"_\"+feature for electrode in electrodes for feature in features]\n",
        "\n",
        "temp_channels=['alpha_channel','delta_channel']\n",
        "channels = [electrode+\"_\"+channel for electrode in electrodes for channel in temp_channels]"
      ],
      "execution_count": null,
      "outputs": []
    },
    {
      "cell_type": "code",
      "metadata": {
        "id": "oW8W3jFjFtL8",
        "colab_type": "code",
        "colab": {}
      },
      "source": [
        "# Vcituvanje na raw train podatoci\n",
        "def loading_train_data(subject_num):\n",
        "  path=\"drive/My Drive/Inteligentni_Sistemi/SBJ\"\n",
        "\n",
        "  train_data_01 = scipy.io.loadmat(path+str(subject_num).zfill(2)+'/S01/Train/trainData.mat')['trainData']\n",
        "  train_events_01 = np.loadtxt(fname = path+str(subject_num).zfill(2)+'/S01/Train/trainEvents.txt')\n",
        "  train_targets_01 = np.loadtxt(fname = path+str(subject_num).zfill(2)+'/S01/Train/trainTargets.txt')\n",
        "\n",
        "  train_data_02 = scipy.io.loadmat(path+str(subject_num).zfill(2)+'/S02/Train/trainData.mat')['trainData']\n",
        "  train_events_02 = np.loadtxt(fname = path+str(subject_num).zfill(2)+'/S02/Train/trainEvents.txt')\n",
        "  train_targets_02 = np.loadtxt(fname = path+str(subject_num).zfill(2)+'/S02/Train/trainTargets.txt')\n",
        "\n",
        "  train_data_03 = scipy.io.loadmat(path+str(subject_num).zfill(2)+'/S03/Train/trainData.mat')['trainData']\n",
        "  train_events_03 = np.loadtxt(fname = path+str(subject_num).zfill(2)+'/S03/Train/trainEvents.txt')\n",
        "  train_targets_03 = np.loadtxt(fname = path+str(subject_num).zfill(2)+'/S03/Train/trainTargets.txt')\n",
        "\n",
        "  train_data ={ \"S01\": (train_data_01, train_events_01, train_targets_01),\n",
        "                \"S02\": (train_data_02, train_events_02, train_targets_02),\n",
        "                \"S03\": (train_data_03, train_events_03, train_targets_03)\n",
        "               }\n",
        "  return train_data"
      ],
      "execution_count": null,
      "outputs": []
    },
    {
      "cell_type": "code",
      "metadata": {
        "id": "cBj31lKXF2K0",
        "colab_type": "code",
        "colab": {}
      },
      "source": [
        "# Reformat na train podatocite\n",
        "\n",
        "def reformat(set_data):\n",
        "  (train_data, train_events, train_targets) = set_data\n",
        "  df = np.array([a[i] for i in range(0,1600) for sublist in train_data for a in sublist])\n",
        "  df_1600 = np.array([df[i:i+2800] for i in range(0,len(df),2800)])\n",
        "  data = np.zeros(shape=(train_num_events,num_signals,signal_length))\n",
        "  for i in range(len(df_1600)):\n",
        "    subset = df_1600[i]\n",
        "    data[i] = [subset[i:i+350] for i in range(0,len(subset),signal_length)]\n",
        "  \n",
        "  return data"
      ],
      "execution_count": null,
      "outputs": []
    },
    {
      "cell_type": "code",
      "metadata": {
        "id": "Hqs9BGkBRlOO",
        "colab_type": "code",
        "colab": {
          "base_uri": "https://localhost:8080/",
          "height": 641
        },
        "outputId": "79a86e92-51fc-428f-c863-716f03c5c5fc"
      },
      "source": [
        "# Plot za sekoj od 8te signali za prviot nastan\n",
        "tr_data = reformat(loading_train_data(15)[\"S01\"])\n",
        "\n",
        "# print(tr_data)\n",
        "sample_freq = 250\n",
        "sample_duration = 1.4\n",
        "fig = plt.figure(figsize=(20,10))\n",
        "time = np.arange(0.0, sample_duration, 1/sample_freq)\n",
        "for i in range(1, 9):\n",
        "    plt.subplot(2, 4, i)\n",
        "    plt.ylim([-100, 100])\n",
        "    plt.plot(time,tr_data[7][i-1],color='red')\n",
        "plt.xlabel('time(s)')\n",
        "plt.ylabel('signal')"
      ],
      "execution_count": null,
      "outputs": [
        {
          "output_type": "execute_result",
          "data": {
            "text/plain": [
              "Text(0, 0.5, 'signal')"
            ]
          },
          "metadata": {
            "tags": []
          },
          "execution_count": 64
        },
        {
          "output_type": "display_data",
          "data": {
            "image/png": "[encoded data removed]",
            "text/plain": [
              "<Figure size 1440x720 with 8 Axes>"
            ]
          },
          "metadata": {
            "tags": [],
            "needs_background": "light"
          }
        }
      ]
    },
    {
      "cell_type": "code",
      "metadata": {
        "id": "uzeQCl7wSFcf",
        "colab_type": "code",
        "colab": {
          "base_uri": "https://localhost:8080/",
          "height": 324
        },
        "outputId": "dfca52f1-5e20-497e-d486-9e3cfd3b7dd9"
      },
      "source": [
        "# Sporedba na 6tiot kanal kaj signal koj sodrzi p300(plav) i signal koj ne sodrzi p300(crven)\n",
        "fig = plt.figure(figsize=(10,5))\n",
        "time = np.arange(0.0, sample_duration, 1/sample_freq)\n",
        "plt.ylim([-50, 50])\n",
        "plt.plot(time,tr_data[7][5],color='blue')\n",
        "plt.plot(time,tr_data[1][5],color='red')\n",
        "plt.show()"
      ],
      "execution_count": null,
      "outputs": [
        {
          "output_type": "display_data",
          "data": {
            "image/png": "[encoded data removed]",
            "text/plain": [
              "<Figure size 720x360 with 1 Axes>"
            ]
          },
          "metadata": {
            "tags": [],
            "needs_background": "light"
          }
        }
      ]
    },
    {
      "cell_type": "code",
      "metadata": {
        "id": "NI1ozfxZGGvH",
        "colab_type": "code",
        "colab": {}
      },
      "source": [
        "# Funkcii za izvlekuvanje na featurite soodvetno\n",
        "\n",
        "points = dict()\n",
        "def gen_points(signal):\n",
        "  for i in range(signal_length):\n",
        "    points[time[i]]=signal[i]\n",
        "  return points\n",
        "def pos_peak(signal):\n",
        "  return max(signal)\n",
        "def neg_peak(signal):\n",
        "  return min(signal)\n",
        "\n",
        "# Period vo vremeto vo koj se slucil pozitivniot peak\n",
        "def pos_peak_period(signal):\n",
        "  points=gen_points(signal)\n",
        "  pos_peak_time = [key for key in points if points[key] == pos_peak(signal)][0]\n",
        "  return {pos_peak_time >= 0.0 and pos_peak_time < 0.2: 1,pos_peak_time >= 0.2 and pos_peak_time < 0.4: 2,pos_peak_time >= 0.4 and pos_peak_time < 0.6: 3,\n",
        "          pos_peak_time >= 0.6 and pos_peak_time < 0.8: 4,pos_peak_time >= 0.8 and pos_peak_time < 1.0: 5,\n",
        "          pos_peak_time >= 1.0 and pos_peak_time < 1.2: 6,pos_peak_time >= 1.2 and pos_peak_time < 1.4: 7}.get(True,pos_peak_time)\n",
        "\n",
        "# Period vo vremeto vo koj se slucil negativniot peak\n",
        "def neg_peak_period(signal):\n",
        "  points=gen_points(signal)\n",
        "  neg_peak_time = [key for key in points if points[key] == neg_peak(signal)][0]\n",
        "  return {neg_peak_time >= 0.0 and neg_peak_time < 0.2: 1,neg_peak_time >= 0.2 and neg_peak_time < 0.4: 2,neg_peak_time >= 0.4 and neg_peak_time < 0.6: 3,\n",
        "          neg_peak_time >= 0.6 and neg_peak_time < 0.8: 4,neg_peak_time >= 0.8 and neg_peak_time < 1.0: 5,\n",
        "          neg_peak_time >= 1.0 and neg_peak_time < 1.2: 6,neg_peak_time >= 1.2 and neg_peak_time < 1.4: 7}.get(True,neg_peak_time)\n",
        "\n",
        "# Fast fourier transform\n",
        "def fft(signal):\n",
        "  fft_vals = np.absolute(np.fft.rfft(signal))\n",
        "  fft_freq = np.fft.rfftfreq(len(signal), 1.0/sampling_rate)\n",
        "  eeg_bands = {'Delta': (0, 4),\n",
        "                'Thetha': (4, 8),\n",
        "                'Alpha': (8, 12),\n",
        "                'Beta': (12, 30),\n",
        "                'Gamma': (30, 45)}\n",
        "  eeg_band_fft = dict()\n",
        "  for band in eeg_bands:\n",
        "      freq_ix = np.where((fft_freq >= eeg_bands[band][0]) & \n",
        "                        (fft_freq <= eeg_bands[band][1]))[0]\n",
        "      eeg_band_fft[band] = np.mean(fft_vals[freq_ix])\n",
        "  return {'Alpha':eeg_band_fft['Alpha'],'Delta':eeg_band_fft['Delta']}\n",
        "  "
      ],
      "execution_count": null,
      "outputs": []
    },
    {
      "cell_type": "code",
      "metadata": {
        "id": "h_hEhn4hHYTH",
        "colab_type": "code",
        "colab": {}
      },
      "source": [
        "# Funkcija za izvlekuvanje na izbranite features za dadeno trening mnozestvo\n",
        "def feature_extraction(data,train_events,train_targets):\n",
        "  rows_list = []\n",
        "  for i in range(train_num_events):\n",
        "    entry={}\n",
        "    temp=0\n",
        "    for j in range(num_signals):\n",
        "      entry[columns[0+temp]]=pos_peak_period(data[i][j])\n",
        "      entry[columns[1+temp]]=neg_peak_period(data[i][j])\n",
        "      entry[columns[2+temp]]=fft(data[i][j])['Alpha']\n",
        "      entry[columns[3+temp]]=fft(data[i][j])['Delta']\n",
        "\n",
        "      temp+=4\n",
        "    rows_list.append(entry)\n",
        "  df = pd.DataFrame(rows_list,columns=columns) # df so obicni vredosti\n",
        "  df['Object'] = train_events.astype(int)\n",
        "  df['Target'] = train_targets.astype(int) # dodavanje na klasite na kraj\n",
        "\n",
        "  return df"
      ],
      "execution_count": null,
      "outputs": []
    },
    {
      "cell_type": "code",
      "metadata": {
        "id": "PepkzM8MHjuD",
        "colab_type": "code",
        "colab": {}
      },
      "source": [
        "# Diskretiziranje na dvata kanali\n",
        "\n",
        "def discretize_channels(df):\n",
        "  n = math.floor(1 + math.log(train_num_events,2)) \n",
        "  d = KBinsDiscretizer(n_bins = n, encode='ordinal', strategy='uniform')\n",
        "  for c in channels:\n",
        "    current_channel = df[c]\n",
        "    current_channel_discretized = d.fit_transform(pd.DataFrame(current_channel))\n",
        "    df[current_channel.name] = current_channel_discretized.astype(int)\n",
        "\n",
        "  return df"
      ],
      "execution_count": null,
      "outputs": []
    },
    {
      "cell_type": "code",
      "metadata": {
        "id": "CbeFbVa_ID_x",
        "colab_type": "code",
        "colab": {}
      },
      "source": [
        "# Procesiranje na podatocite, izvlekuvanje features, diskretizacija i zacuvuvanje za ponatamosno koristenje\n",
        "for i in range(0,15):\n",
        "  train_data = loading_train_data(i+1)\n",
        "\n",
        "  set1=train_data[\"S01\"]\n",
        "  set2=train_data[\"S02\"]\n",
        "  set3=train_data[\"S03\"]\n",
        "\n",
        "  data01 = reformat(set1)\n",
        "  df01 = feature_extraction(data01,set1[1],set1[2])\n",
        "  df01 = discretize_channels(df01)\n",
        "\n",
        "  data02 = reformat(set2)\n",
        "  df02 = feature_extraction(data02,set2[1],set2[2])\n",
        "  df02 = discretize_channels(df02)\n",
        "\n",
        "  data03 = reformat(set3)\n",
        "  df03 = feature_extraction(data03,set3[1],set3[2])\n",
        "  df03 = discretize_channels(df03)\n",
        "\n",
        "\n",
        "  final_df = pd.concat([df01,df02,df03],ignore_index=True)\n",
        "  final_df.to_csv(r'drive/My Drive/Inteligentni_Sistemi/final_train_data_'+str(i+1)+'.csv',index=False)\n",
        "\n"
      ],
      "execution_count": null,
      "outputs": []
    },
    {
      "cell_type": "code",
      "metadata": {
        "id": "Z5lIA7H9IDOY",
        "colab_type": "code",
        "colab": {}
      },
      "source": [
        "train_df_01 = pd.read_csv('drive/My Drive/Inteligentni_Sistemi/final_train_data_1.csv')\n",
        "train_df_02 = pd.read_csv('drive/My Drive/Inteligentni_Sistemi/final_train_data_2.csv')\n",
        "train_df_03 = pd.read_csv('drive/My Drive/Inteligentni_Sistemi/final_train_data_3.csv')\n",
        "train_df_04 = pd.read_csv('drive/My Drive/Inteligentni_Sistemi/final_train_data_4.csv')\n",
        "train_df_05 = pd.read_csv('drive/My Drive/Inteligentni_Sistemi/final_train_data_5.csv')\n",
        "train_df_06 = pd.read_csv('drive/My Drive/Inteligentni_Sistemi/final_train_data_6.csv')\n",
        "train_df_07 = pd.read_csv('drive/My Drive/Inteligentni_Sistemi/final_train_data_7.csv')\n",
        "train_df_08 = pd.read_csv('drive/My Drive/Inteligentni_Sistemi/final_train_data_8.csv')\n",
        "train_df_09 = pd.read_csv('drive/My Drive/Inteligentni_Sistemi/final_train_data_9.csv')\n",
        "train_df_10 = pd.read_csv('drive/My Drive/Inteligentni_Sistemi/final_train_data_10.csv')\n",
        "train_df_11 = pd.read_csv('drive/My Drive/Inteligentni_Sistemi/final_train_data_11.csv')\n",
        "train_df_12 = pd.read_csv('drive/My Drive/Inteligentni_Sistemi/final_train_data_12.csv')\n",
        "train_df_13 = pd.read_csv('drive/My Drive/Inteligentni_Sistemi/final_train_data_13.csv')\n",
        "train_df_14 = pd.read_csv('drive/My Drive/Inteligentni_Sistemi/final_train_data_14.csv')\n",
        "train_df_15 = pd.read_csv('drive/My Drive/Inteligentni_Sistemi/final_train_data_15.csv')\n",
        "\n",
        "final_train_df = pd.concat([train_df_01,train_df_02,train_df_03,train_df_04,train_df_05,train_df_06,train_df_07,train_df_08,train_df_01,train_df_09,train_df_10,train_df_11,train_df_12,train_df_13,train_df_14,train_df_15],ignore_index=True)\n",
        "final_df.to_csv(r'drive/My Drive/Inteligentni_Sistemi/final_train_data.csv',index=False)"
      ],
      "execution_count": null,
      "outputs": []
    },
    {
      "cell_type": "code",
      "metadata": {
        "id": "fXrIwhasqMpp",
        "colab_type": "code",
        "colab": {}
      },
      "source": [
        "# Vcituvanje na obrabotenite trening podatocite\n",
        "train_df = pd.read_csv('drive/My Drive/Inteligentni_Sistemi/final_train_data.csv')"
      ],
      "execution_count": null,
      "outputs": []
    },
    {
      "cell_type": "code",
      "metadata": {
        "id": "D1Kc5000qYCv",
        "colab_type": "code",
        "colab": {
          "base_uri": "https://localhost:8080/",
          "height": 53
        },
        "outputId": "bfbe1d29-99c1-4a5a-a66e-bd4b96ac1df7"
      },
      "source": [
        "# Separate majority and minority classes\n",
        "df_majority = train_df[train_df.Target==0]\n",
        "df_minority = train_df[train_df.Target==1]\n",
        "\n",
        "# Upsample minority class\n",
        "df_minority_upsampled = resample(df_minority, \n",
        "                                 replace=True,     # sample with replacement\n",
        "                                 n_samples=4200,   # to match majority class\n",
        "                                 random_state=123) # reproducible results\n",
        "\n",
        "# Combine majority class with upsampled minority class\n",
        "df_upsampled = pd.concat([df_majority, df_minority_upsampled])\n",
        "\n",
        "# Display new class counts\n",
        "df_upsampled.Target.value_counts()\n",
        "target = df_upsampled[\"Target\"]\n",
        "data = df_upsampled.drop('Target',axis=1).drop('Object',axis=1)\n",
        "x_train,x_test,y_train,y_test = train_test_split(data,target,test_size=0.3,random_state=0)\n",
        "\n",
        "mlp = MLPClassifier(hidden_layer_sizes=(50,), max_iter=200, alpha=1e-4,\n",
        "                    solver='lbfgs', activation='logistic', verbose=True, random_state=1,\n",
        "                    learning_rate_init=.2)\n",
        "\n",
        "\n",
        "with warnings.catch_warnings():\n",
        "    warnings.filterwarnings(\"ignore\", category=ConvergenceWarning,\n",
        "                            module=\"sklearn\")\n",
        "    mlp.fit(x_train, y_train)\n",
        "\n",
        "\n",
        "print(\"Training set score: \" + str(mlp.score(x_train, y_train)))\n",
        "print(\"Test set score: \" + str(mlp.score(x_test,y_test)))"
      ],
      "execution_count": null,
      "outputs": [
        {
          "output_type": "stream",
          "text": [
            "Training set score: 0.866156462585034\n",
            "Test set score: 0.7880952380952381\n"
          ],
          "name": "stdout"
        }
      ]
    },
    {
      "cell_type": "code",
      "metadata": {
        "id": "O-m2zuWUvWa2",
        "colab_type": "code",
        "colab": {}
      },
      "source": [
        "# Vcituvanje na raw test podatoci\n",
        "def loading_test_data(subject_num):\n",
        "  path=\"drive/My Drive/Inteligentni_Sistemi/SBJ\"\n",
        "\n",
        "  test_data_01 = scipy.io.loadmat(path+str(subject_num).zfill(2)+'/S01/Test/testData.mat')['testData']\n",
        "  test_events_01 = np.loadtxt(fname = path+str(subject_num).zfill(2)+'/S01/Test/testEvents.txt')\n",
        "  runs_per_block01 = int(np.loadtxt(fname = path+str(subject_num).zfill(2)+'/S01/Test/runs_per_block.txt').item())\n",
        "\n",
        "  test_data_02 = scipy.io.loadmat(path+str(subject_num).zfill(2)+'/S02/Test/testData.mat')['testData']\n",
        "  test_events_02 = np.loadtxt(fname = path+str(subject_num).zfill(2)+'/S02/Test/testEvents.txt')\n",
        "  runs_per_block02 = int(np.loadtxt(fname = path+str(subject_num).zfill(2)+'/S02/Test/runs_per_block.txt').item())\n",
        "\n",
        "  test_data_03 = scipy.io.loadmat(path+str(subject_num).zfill(2)+'/S03/Test/testData.mat')['testData']\n",
        "  test_events_03 = np.loadtxt(fname = path+str(subject_num).zfill(2)+'/S03/Test/testEvents.txt')\n",
        "  runs_per_block03 = int(np.loadtxt(fname = path+str(subject_num).zfill(2)+'/S03/Test/runs_per_block.txt').item())\n",
        "\n",
        "\n",
        "  test_data ={ \"S01\": (test_data_01, test_events_01, runs_per_block01),\n",
        "               \"S02\": (test_data_02, test_events_02, runs_per_block02),\n",
        "               \"S03\": (test_data_03, test_events_03, runs_per_block03)\n",
        "               }\n",
        "  return test_data"
      ],
      "execution_count": null,
      "outputs": []
    },
    {
      "cell_type": "code",
      "metadata": {
        "id": "HkQulc_2yDoS",
        "colab_type": "code",
        "colab": {}
      },
      "source": [
        "# Reformat na test podatocite\n",
        "def reformat_test(set_data):\n",
        "  (test_data, test_events, runs_per_block) = set_data\n",
        "  num_events=50*runs_per_block*evenst-per_run\n",
        "  df = np.array([a[i] for i in range(0,1600) for sublist in test_data for a in sublist])\n",
        "  df_1600 = np.array([df[i:i+2800] for i in range(0,len(df),2800)])\n",
        "  data = np.zeros(shape=(num_events,num_signals,signal_length))\n",
        "  for i in range(len(df_1600)):\n",
        "    subset = df_1600[i]\n",
        "    data[i] = [subset[i:i+350] for i in range(0,len(subset),signal_length)]\n",
        "  \n",
        "  return test_data"
      ],
      "execution_count": null,
      "outputs": []
    },
    {
      "cell_type": "code",
      "metadata": {
        "id": "CFT3MmZN3K-T",
        "colab_type": "code",
        "colab": {}
      },
      "source": [
        "# Funkcija za izvlekuvanje na izbranite features za dadeno test mnozestvo\n",
        "def feature_extraction_test(data,test_events, num_events):\n",
        "  rows_list = []\n",
        "  for i in range(num_events):\n",
        "    entry={}\n",
        "    temp=0\n",
        "    for j in range(num_signals):\n",
        "      entry[columns[0+temp]]=pos_peak_period(data[i][j])\n",
        "      entry[columns[1+temp]]=neg_peak_period(data[i][j])\n",
        "      entry[columns[2+temp]]=fft(data[i][j])['Alpha']\n",
        "      entry[columns[3+temp]]=fft(data[i][j])['Delta']\n",
        "\n",
        "      temp+=4\n",
        "    rows_list.append(entry)\n",
        "  df = pd.DataFrame(rows_list,columns=columns) # df so obicni vredosti\n",
        "  df['Object'] = test_events.astype(int)\n",
        "\n",
        "  return df"
      ],
      "execution_count": null,
      "outputs": []
    },
    {
      "cell_type": "code",
      "metadata": {
        "id": "885yVlL34byz",
        "colab_type": "code",
        "colab": {}
      },
      "source": [
        "# Diskretiziranje na dvata kanali\n",
        "def discretize_channels_test(df,num_events):\n",
        "  n = math.floor(1 + math.log(num_events,2)) \n",
        "  d = KBinsDiscretizer(n_bins = n, encode='ordinal', strategy='uniform')\n",
        "  for c in channels:\n",
        "    current_channel = df[c]\n",
        "    current_channel_discretized = d.fit_transform(pd.DataFrame(current_channel))\n",
        "    df[current_channel.name] = current_channel_discretized.astype(int)\n",
        "\n",
        "  return df"
      ],
      "execution_count": null,
      "outputs": []
    },
    {
      "cell_type": "code",
      "metadata": {
        "id": "JRtXHlqeyoO0",
        "colab_type": "code",
        "colab": {}
      },
      "source": [
        "# Procesiranje na podatocite, izvlekuvanje features, diskretizacija i zacuvuvanje za ponatamosno koristenje\n",
        "for i in range(0,15):\n",
        "  test_data = loading_test_data(i+1)\n",
        "\n",
        "  set1=test_data[\"S01\"]\n",
        "  set2=test_data[\"S02\"]\n",
        "  set3=test_data[\"S03\"]\n",
        "\n",
        "  data01 = reformat_test(set1)\n",
        "  df01 = feature_extraction_test(data01,set1[1],set1[2]*50*8)\n",
        "  df01 = discretize_channels_test(df01,set1[2]*50*8)\n",
        "\n",
        "  data02 = reformat_test(set2)\n",
        "  df02 = feature_extraction_test(data02,set2[1],set2[2]*50*8)\n",
        "  df02 = discretize_channels_test(df02,set2[2]*50*8)\n",
        "\n",
        "  data03 = reformat_test(set3)\n",
        "  df03 = feature_extraction_test(data03,set3[1],set3[2]*50*8)\n",
        "  df03 = discretize_channels_test(df03,set3[2]*50*8)\n",
        "\n",
        "\n",
        "  final_df = pd.concat([df01,df02,df03],ignore_index=True)\n",
        "  final_df.to_csv(r'drive/My Drive/Inteligentni_Sistemi/final_test_data_'+str(i+1)+'.csv',index=False)\n",
        "\n"
      ],
      "execution_count": null,
      "outputs": []
    },
    {
      "cell_type": "code",
      "metadata": {
        "id": "IpQDWyN65ML5",
        "colab_type": "code",
        "colab": {}
      },
      "source": [
        "# Funkcija za isbor na labela od predviduvanjata dobieni od modelot nad test podatocite\n",
        "def get_predictions(df,runs_per_block,test_events):\n",
        "  blocks_num=50\n",
        "  events_num=blocks_num*runs_per_block*events_per_run\n",
        "\n",
        "  # objects = test_events.astype(int)\n",
        "\n",
        "  test_data = df.drop('Object',axis=1)\n",
        "\n",
        "  predicted=mlp.predict_proba(test_data) \n",
        "\n",
        "  predicted=predicted.round(decimals=2)\n",
        "\n",
        "  predicted=pd.DataFrame({'Predicted': predicted[:,1]})\n",
        "  predicted['Object'] = test_events.astype(int)\n",
        "  df_predictions=predicted\n",
        "\n",
        "  predictions_np=df_predictions.to_numpy()\n",
        "  temp1=np.array([predictions_np[i:i+events_per_run]for i in range(0, events_num, events_per_run)])\n",
        "  predictions=np.array([temp1[i:i+runs_per_block]for i in range(0, blocks_num*runs_per_block, runs_per_block)])\n",
        "  # print(predictions)\n",
        "\n",
        "  # Gi sobirame verojatnostite po labelata za sekoj predmet \n",
        "  blocks=[]\n",
        "  for i in range(0,blocks_num):\n",
        "    runs=[0]*events_per_run # 8 zatoa sto ima 8 predmeti\n",
        "    for j in range(0,runs_per_block):\n",
        "      for k in range(0,events_per_run):\n",
        "        runs[int(predictions[i][j][k][1])-1]  +=   predictions[i][j][k][0]  # gi sobira spored vrednosta na vtorata kolona ( labelata na predmetot)\n",
        "      #sobira 6 verojatnosit za sekoj predmet ( 6 runs ), zatoa e pogolemo od 1 \n",
        "   \n",
        "    blocks.append(runs)\n",
        "# blocks_prob01 # ova e 50(blocks)* 8 vrednosti-sobranite verojatnosti za sekoj predmet (od 1 do 8) od sekoj run vo toj blok\n",
        "\n",
        "  labels=[]\n",
        "  for i in range(0,blocks_num):\n",
        "    m=blocks[i].index(max(blocks[i]))+1\n",
        "    labels.append(m)\n",
        "\n",
        "  return labels"
      ],
      "execution_count": null,
      "outputs": []
    },
    {
      "cell_type": "code",
      "metadata": {
        "id": "rwoL1nUJ2x9O",
        "colab_type": "code",
        "colab": {
          "base_uri": "https://localhost:8080/",
          "height": 1000
        },
        "outputId": "dd3d2f11-84f5-4e0c-e605-6af8d1b93ac9"
      },
      "source": [
        "# Vcituvanje na obrabotenite test podatoci, predviduvanje so modelot i izbiranje na labela za sekoj blok\n",
        "for i in range(0,15):\n",
        "  test_data = loading_test_data(i+1)\n",
        "  print(i+1)\n",
        "  set1=test_data[\"S01\"]\n",
        "  set2=test_data[\"S02\"]\n",
        "  set3=test_data[\"S03\"]\n",
        "\n",
        "  runs_01=set1[2]\n",
        "  runs_02=set2[2]\n",
        "  runs_03=set3[2]\n",
        "\n",
        "  events1=50*8*runs_01\n",
        "  events2=50*8*runs_02\n",
        "  events3=50*8*runs_03\n",
        "\n",
        "  test_df = pd.read_csv('drive/My Drive/Inteligentni_Sistemi/final_test_data_'+str(i+1)+'.csv')\n",
        "\n",
        "  df_1=test_df.iloc[0:events1]\n",
        "  df_2=test_df.iloc[events1:(events1+events2)]\n",
        "  df_3=test_df.iloc[(events1+events2):(events1+events2+events3)]\n",
        "\n",
        "  labels1=get_predictions(df_1,runs_01,set1[1])\n",
        "\n",
        "  labels3=get_predictions(df_3,runs_03,set3[1])\n",
        "\n",
        "  labels2=get_predictions(df_2,runs_02,set2[1])\n",
        "\n",
        "  \n",
        "\n",
        "  print(labels1)\n",
        "  print(labels2)\n",
        "  print(labels3)\n"
      ],
      "execution_count": null,
      "outputs": [
        {
          "output_type": "stream",
          "text": [
            "1\n",
            "[4, 7, 4, 5, 4, 6, 4, 1, 7, 3, 1, 6, 2, 8, 8, 6, 2, 8, 5, 5, 4, 3, 7, 4, 1, 3, 3, 1, 4, 1, 6, 7, 4, 3, 7, 8, 5, 3, 6, 7, 6, 7, 2, 3, 8, 6, 8, 3, 7, 2]\n",
            "[3, 5, 6, 2, 2, 6, 7, 4, 2, 6, 3, 2, 2, 8, 4, 6, 1, 7, 6, 4, 8, 6, 6, 6, 7, 5, 5, 1, 7, 6, 4, 1, 5, 7, 8, 8, 3, 7, 7, 8, 2, 5, 7, 6, 4, 7, 6, 6, 7, 2]\n",
            "[2, 2, 8, 6, 7, 7, 7, 1, 5, 2, 5, 8, 6, 2, 4, 1, 6, 6, 8, 7, 1, 2, 3, 6, 1, 3, 8, 5, 2, 5, 3, 6, 8, 1, 1, 6, 2, 5, 3, 8, 3, 6, 6, 3, 3, 2, 2, 7, 6, 3]\n",
            "2\n",
            "[2, 5, 6, 1, 4, 1, 5, 6, 3, 5, 4, 4, 5, 5, 8, 6, 4, 5, 5, 3, 5, 4, 5, 7, 1, 5, 4, 7, 7, 8, 7, 4, 4, 1, 8, 8, 3, 4, 6, 8, 7, 6, 8, 5, 7, 2, 3, 7, 2, 8]\n",
            "[3, 8, 6, 2, 1, 3, 5, 6, 4, 6, 1, 2, 3, 5, 3, 4, 4, 5, 4, 6, 5, 8, 5, 2, 2, 3, 6, 3, 3, 2, 7, 7, 7, 2, 2, 5, 8, 7, 2, 1, 5, 3, 6, 8, 2, 5, 7, 5, 2, 8]\n",
            "[4, 6, 8, 6, 2, 6, 3, 1, 2, 6, 1, 1, 8, 5, 6, 6, 7, 3, 3, 3, 6, 3, 1, 2, 5, 4, 7, 7, 6, 2, 5, 4, 1, 8, 1, 3, 1, 8, 8, 4, 1, 7, 3, 5, 5, 6, 7, 5, 1, 6]\n",
            "3\n",
            "[7, 4, 1, 7, 7, 1, 6, 8, 6, 7, 2, 5, 8, 4, 6, 8, 5, 4, 5, 5, 4, 4, 5, 3, 6, 5, 6, 7, 4, 5, 7, 3, 8, 2, 5, 5, 6, 7, 6, 3, 5, 6, 3, 8, 7, 8, 2, 5, 2, 8]\n",
            "[3, 1, 8, 2, 2, 1, 1, 6, 6, 3, 1, 3, 1, 5, 6, 1, 4, 8, 7, 4, 7, 3, 3, 6, 6, 1, 1, 1, 6, 8, 7, 8, 1, 5, 5, 4, 7, 5, 4, 1, 3, 1, 8, 6, 5, 2, 1, 8, 1, 4]\n",
            "[2, 3, 6, 4, 1, 8, 3, 4, 4, 8, 2, 3, 1, 4, 3, 8, 1, 2, 1, 2, 8, 5, 4, 2, 4, 6, 4, 7, 2, 2, 5, 4, 8, 2, 7, 6, 2, 3, 7, 7, 3, 7, 8, 2, 6, 8, 5, 4, 1, 6]\n",
            "4\n",
            "[1, 1, 2, 4, 7, 6, 7, 8, 3, 2, 5, 8, 4, 1, 1, 1, 2, 2, 1, 3, 5, 5, 4, 1, 8, 4, 7, 7, 7, 3, 4, 3, 5, 2, 5, 3, 6, 6, 7, 4, 1, 1, 4, 4, 3, 5, 5, 8, 7, 7]\n",
            "[7, 8, 6, 3, 4, 1, 3, 6, 3, 7, 6, 8, 7, 3, 8, 3, 5, 5, 2, 8, 6, 6, 3, 7, 6, 1, 1, 4, 5, 8, 6, 3, 8, 4, 3, 1, 3, 6, 7, 5, 3, 3, 5, 2, 8, 8, 2, 7, 7, 2]\n",
            "[8, 2, 3, 1, 5, 5, 2, 4, 8, 4, 2, 3, 5, 1, 6, 7, 4, 3, 3, 1, 3, 1, 2, 7, 7, 7, 7, 8, 7, 3, 4, 1, 3, 6, 6, 7, 2, 7, 7, 1, 8, 4, 8, 5, 7, 5, 7, 6, 5, 1]\n",
            "5\n",
            "[2, 4, 5, 3, 4, 3, 7, 8, 1, 7, 3, 2, 3, 2, 3, 2, 4, 7, 2, 2, 7, 6, 7, 6, 6, 8, 5, 7, 5, 8, 8, 5, 4, 3, 2, 2, 2, 4, 6, 1, 5, 7, 1, 8, 7, 5, 3, 7, 3, 8]\n",
            "[4, 2, 2, 6, 4, 2, 6, 7, 5, 3, 5, 6, 8, 4, 2, 3, 5, 5, 5, 8, 8, 7, 2, 8, 4, 4, 6, 3, 5, 4, 5, 2, 2, 7, 1, 1, 8, 8, 5, 3, 3, 8, 4, 1, 3, 2, 5, 3, 2, 3]\n",
            "[8, 8, 2, 8, 2, 7, 7, 3, 5, 2, 2, 8, 5, 5, 8, 4, 5, 3, 3, 3, 4, 6, 2, 6, 5, 8, 1, 2, 3, 1, 1, 2, 7, 2, 1, 4, 7, 6, 7, 5, 6, 5, 5, 7, 5, 5, 4, 3, 4, 7]\n",
            "6\n",
            "[3, 6, 5, 4, 3, 5, 6, 3, 1, 5, 3, 7, 2, 3, 5, 5, 1, 6, 8, 8, 1, 2, 5, 8, 1, 8, 2, 3, 5, 1, 2, 4, 5, 8, 6, 4, 3, 8, 1, 4, 7, 1, 8, 7, 1, 4, 4, 6, 5, 3]\n",
            "[7, 5, 7, 7, 3, 1, 7, 5, 6, 8, 6, 7, 2, 7, 1, 3, 2, 2, 5, 8, 8, 7, 1, 1, 8, 4, 4, 1, 8, 6, 3, 3, 5, 1, 4, 6, 7, 4, 2, 7, 5, 4, 7, 6, 5, 4, 6, 7, 3, 1]\n",
            "[7, 7, 8, 4, 6, 8, 8, 4, 8, 8, 2, 3, 5, 2, 8, 3, 2, 7, 2, 8, 2, 4, 1, 6, 4, 1, 7, 2, 7, 4, 4, 4, 8, 4, 2, 4, 6, 2, 3, 6, 1, 4, 2, 5, 2, 5, 6, 4, 8, 5]\n",
            "7\n",
            "[4, 1, 8, 4, 8, 5, 6, 1, 6, 1, 4, 2, 3, 4, 2, 8, 7, 7, 8, 3, 3, 3, 1, 2, 8, 3, 5, 7, 7, 3, 1, 1, 3, 6, 5, 7, 5, 6, 5, 6, 7, 3, 3, 3, 2, 2, 7, 3, 4, 4]\n",
            "[2, 5, 8, 6, 2, 7, 1, 6, 5, 5, 4, 3, 5, 5, 6, 7, 5, 8, 5, 7, 1, 8, 1, 3, 2, 5, 4, 3, 1, 2, 2, 4, 4, 8, 8, 1, 5, 1, 7, 8, 4, 2, 4, 2, 6, 5, 2, 2, 3, 7]\n",
            "[7, 8, 1, 8, 6, 7, 4, 6, 3, 6, 6, 6, 3, 4, 5, 1, 3, 1, 7, 3, 7, 2, 5, 8, 3, 5, 1, 2, 1, 5, 3, 1, 8, 6, 1, 2, 5, 3, 2, 4, 6, 3, 8, 4, 3, 4, 2, 8, 1, 1]\n",
            "8\n",
            "[1, 2, 1, 6, 4, 5, 7, 2, 4, 7, 5, 7, 7, 7, 3, 7, 4, 1, 7, 7, 6, 6, 4, 8, 8, 1, 1, 6, 4, 3, 5, 6, 4, 6, 4, 7, 5, 5, 7, 7, 6, 5, 7, 5, 2, 4, 2, 4, 2, 5]\n",
            "[2, 6, 2, 6, 6, 6, 2, 4, 4, 3, 4, 1, 5, 6, 1, 5, 8, 6, 1, 5, 1, 4, 6, 5, 3, 3, 6, 2, 8, 7, 8, 5, 4, 3, 1, 3, 8, 2, 5, 2, 5, 2, 8, 7, 2, 5, 6, 7, 2, 4]\n",
            "[2, 3, 6, 3, 3, 4, 4, 7, 7, 3, 2, 1, 1, 2, 8, 2, 3, 5, 1, 4, 2, 5, 4, 4, 4, 6, 6, 6, 1, 2, 2, 5, 2, 5, 8, 7, 4, 2, 7, 6, 8, 3, 3, 1, 3, 2, 8, 3, 1, 7]\n",
            "9\n",
            "[8, 1, 6, 1, 4, 1, 2, 6, 3, 6, 1, 7, 4, 2, 2, 2, 5, 1, 4, 7, 4, 3, 7, 8, 2, 8, 1, 5, 2, 8, 8, 4, 1, 2, 7, 8, 3, 5, 6, 6, 4, 1, 7, 5, 6, 8, 5, 1, 1, 6]\n",
            "[3, 3, 2, 2, 7, 7, 1, 4, 6, 7, 2, 4, 1, 1, 6, 1, 5, 7, 5, 5, 7, 7, 8, 7, 4, 6, 7, 5, 7, 4, 8, 4, 7, 5, 8, 4, 8, 6, 1, 6, 4, 1, 6, 4, 4, 8, 7, 4, 7, 4]\n",
            "[6, 2, 7, 5, 7, 6, 3, 7, 3, 4, 3, 3, 4, 8, 3, 8, 2, 2, 6, 6, 8, 2, 5, 1, 1, 8, 3, 5, 1, 1, 5, 6, 1, 6, 8, 3, 3, 1, 4, 7, 5, 5, 5, 2, 7, 6, 8, 1, 3, 3]\n",
            "10\n",
            "[6, 4, 1, 1, 8, 1, 8, 7, 4, 7, 2, 7, 3, 5, 4, 1, 4, 3, 7, 6, 6, 6, 4, 2, 1, 4, 6, 7, 5, 1, 1, 6, 1, 7, 3, 7, 1, 5, 6, 5, 8, 3, 6, 3, 4, 8, 8, 3, 2, 5]\n",
            "[6, 7, 6, 7, 8, 5, 4, 6, 5, 3, 1, 5, 2, 6, 2, 4, 3, 1, 3, 7, 4, 6, 8, 2, 4, 2, 6, 8, 7, 3, 4, 7, 5, 2, 4, 1, 4, 6, 1, 7, 8, 7, 1, 2, 2, 1, 6, 6, 1, 4]\n",
            "[5, 8, 1, 5, 5, 6, 4, 6, 8, 4, 7, 2, 7, 1, 2, 6, 6, 5, 6, 6, 2, 4, 1, 4, 2, 2, 4, 7, 4, 8, 5, 7, 7, 3, 6, 1, 6, 5, 4, 8, 1, 2, 8, 7, 5, 8, 7, 6, 3, 3]\n",
            "11\n",
            "[6, 5, 5, 5, 8, 8, 3, 4, 8, 2, 4, 8, 4, 8, 8, 7, 3, 1, 8, 7, 1, 2, 7, 2, 8, 2, 1, 1, 8, 3, 1, 4, 3, 4, 3, 7, 2, 6, 2, 3, 1, 7, 5, 3, 4, 8, 3, 5, 4, 6]\n",
            "[6, 6, 5, 6, 5, 4, 1, 6, 7, 3, 4, 4, 8, 2, 5, 7, 7, 1, 8, 7, 2, 5, 1, 5, 3, 1, 3, 3, 7, 7, 2, 3, 2, 3, 5, 8, 3, 1, 3, 8, 7, 5, 7, 8, 5, 6, 6, 7, 1, 7]\n",
            "[3, 5, 5, 4, 6, 3, 6, 2, 1, 6, 7, 6, 6, 4, 2, 7, 4, 6, 7, 2, 8, 4, 8, 6, 2, 8, 8, 2, 8, 8, 1, 8, 3, 6, 5, 2, 3, 3, 1, 8, 6, 8, 1, 8, 6, 3, 3, 2, 7, 2]\n",
            "12\n",
            "[3, 2, 6, 3, 4, 3, 5, 3, 2, 2, 7, 5, 3, 3, 8, 6, 3, 7, 3, 5, 4, 3, 3, 2, 6, 6, 4, 7, 6, 5, 2, 5, 7, 5, 5, 4, 2, 2, 2, 3, 1, 4, 4, 5, 6, 4, 3, 7, 3, 1]\n",
            "[1, 1, 5, 3, 8, 6, 6, 6, 8, 2, 7, 4, 8, 2, 4, 8, 1, 3, 1, 5, 5, 7, 2, 2, 7, 3, 7, 3, 1, 3, 6, 8, 4, 2, 5, 6, 6, 6, 7, 6, 6, 4, 1, 8, 2, 1, 6, 2, 6, 7]\n",
            "[8, 5, 4, 2, 6, 4, 4, 4, 5, 1, 3, 1, 7, 8, 8, 6, 5, 2, 5, 6, 5, 4, 5, 5, 2, 6, 7, 4, 4, 2, 3, 7, 6, 8, 4, 7, 1, 2, 5, 3, 6, 8, 8, 1, 1, 4, 6, 7, 5, 7]\n",
            "13\n",
            "[7, 2, 7, 4, 4, 2, 4, 2, 4, 7, 1, 2, 4, 5, 7, 1, 7, 8, 4, 4, 3, 5, 5, 5, 7, 1, 7, 5, 1, 8, 2, 4, 6, 1, 1, 1, 6, 3, 7, 2, 6, 1, 7, 3, 1, 2, 8, 5, 3, 2]\n",
            "[8, 4, 1, 8, 1, 8, 1, 8, 3, 3, 8, 4, 2, 8, 3, 7, 5, 3, 2, 7, 3, 2, 1, 6, 2, 2, 5, 3, 7, 5, 2, 1, 6, 4, 4, 8, 2, 5, 7, 3, 8, 4, 2, 2, 2, 7, 3, 7, 1, 1]\n",
            "[8, 3, 5, 3, 4, 5, 7, 1, 7, 1, 2, 1, 7, 5, 7, 5, 1, 3, 5, 5, 2, 6, 1, 8, 4, 7, 2, 4, 5, 2, 2, 1, 6, 2, 4, 5, 6, 3, 5, 6, 1, 8, 8, 4, 4, 1, 1, 5, 1, 3]\n",
            "14\n",
            "[1, 6, 5, 5, 6, 4, 8, 1, 8, 2, 4, 3, 2, 2, 5, 2, 5, 2, 3, 1, 4, 2, 5, 7, 1, 8, 8, 6, 5, 1, 8, 5, 8, 2, 7, 7, 2, 2, 1, 4, 8, 4, 2, 3, 5, 4, 8, 3, 4, 2]\n",
            "[5, 3, 8, 7, 3, 8, 5, 8, 5, 2, 2, 4, 6, 2, 7, 6, 2, 7, 6, 2, 6, 5, 7, 3, 7, 2, 3, 3, 3, 4, 3, 5, 7, 3, 2, 6, 4, 3, 2, 5, 7, 1, 7, 5, 4, 5, 5, 3, 2, 5]\n",
            "[4, 5, 6, 8, 3, 7, 5, 1, 1, 8, 2, 2, 7, 3, 1, 3, 3, 5, 4, 8, 2, 8, 4, 7, 3, 6, 1, 8, 6, 2, 3, 5, 3, 2, 8, 2, 8, 5, 4, 6, 8, 7, 3, 8, 6, 7, 1, 4, 4, 4]\n",
            "15\n",
            "[3, 7, 2, 4, 1, 8, 8, 3, 2, 1, 1, 4, 5, 1, 8, 3, 6, 3, 1, 8, 4, 5, 7, 6, 5, 6, 1, 5, 6, 3, 8, 5, 6, 6, 6, 2, 7, 5, 2, 2, 4, 4, 5, 5, 4, 3, 5, 6, 1, 5]\n",
            "[5, 2, 3, 6, 2, 5, 2, 5, 5, 8, 5, 4, 6, 2, 7, 7, 6, 7, 1, 2, 8, 4, 1, 7, 5, 7, 3, 8, 2, 6, 3, 2, 5, 7, 5, 8, 5, 2, 3, 6, 8, 1, 3, 7, 4, 1, 1, 6, 2, 7]\n",
            "[6, 7, 5, 4, 3, 5, 6, 3, 1, 2, 1, 6, 2, 2, 3, 7, 7, 6, 8, 2, 7, 5, 5, 8, 6, 2, 3, 5, 4, 6, 3, 2, 7, 8, 1, 7, 2, 6, 8, 8, 8, 8, 3, 4, 6, 2, 8, 7, 8, 7]\n"
          ],
          "name": "stdout"
        }
      ]
    },
    {
      "cell_type": "code",
      "metadata": {
        "id": "jDbrH2dR5JJa",
        "colab_type": "code",
        "colab": {}
      },
      "source": [
        ""
      ],
      "execution_count": null,
      "outputs": []
    }
  ]
}